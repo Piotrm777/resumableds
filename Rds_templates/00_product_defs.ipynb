{
 "cells": [
  {
   "cell_type": "markdown",
   "metadata": {},
   "source": [
    "## Product specifc definitions"
   ]
  },
  {
   "cell_type": "code",
   "execution_count": 1,
   "metadata": {},
   "outputs": [],
   "source": [
    "project = 'customers'"
   ]
  },
  {
   "cell_type": "code",
   "execution_count": 2,
   "metadata": {},
   "outputs": [
    {
     "name": "stderr",
     "output_type": "stream",
     "text": [
      "2018-08-22 17:06:20,636 INFO     analysis start date set to 2018-02-23 17:06:20.636898\n",
      "2018-08-22 17:06:20,641 INFO     analysis end date set to 2018-08-22 17:06:20.641904\n",
      "2018-08-22 17:06:20,642 INFO     analysis timespan set to 180 days, 0:00:00.005006\n",
      "2018-08-22 17:06:20,642 INFO     Project \"customers\" created with Rds version 1.4.3\n"
     ]
    }
   ],
   "source": [
    "import sys\n",
    "sys.path.append('C://notebooks//oce//users//ried//libs')\n",
    "from rlib.rds_specs import *\n",
    "\n",
    "# create project\n",
    "rds = OceRds.OceProject(project, ['defs'])"
   ]
  },
  {
   "cell_type": "markdown",
   "metadata": {},
   "source": [
    "### SQL database connection"
   ]
  },
  {
   "cell_type": "code",
   "execution_count": null,
   "metadata": {},
   "outputs": [],
   "source": [
    "rds.defs.sql_con = PRD_Colorado_adm_con"
   ]
  },
  {
   "cell_type": "markdown",
   "metadata": {},
   "source": [
    "### Directory on Sharepoint"
   ]
  },
  {
   "cell_type": "code",
   "execution_count": 3,
   "metadata": {},
   "outputs": [],
   "source": [
    "rds.defs.proj_sharepoint_dir = 'C1640_overviews'"
   ]
  },
  {
   "cell_type": "code",
   "execution_count": 11,
   "metadata": {},
   "outputs": [
    {
     "name": "stderr",
     "output_type": "stream",
     "text": [
      "2018-08-22 17:06:21,018 INFO     Project \"customers\" saved\n"
     ]
    }
   ],
   "source": [
    "rds.save('defs')"
   ]
  }
 ],
 "metadata": {
  "kernelspec": {
   "display_name": "Python 3",
   "language": "python",
   "name": "python3"
  },
  "language_info": {
   "codemirror_mode": {
    "name": "ipython",
    "version": 3
   },
   "file_extension": ".py",
   "mimetype": "text/x-python",
   "name": "python",
   "nbconvert_exporter": "python",
   "pygments_lexer": "ipython3",
   "version": "3.6.4"
  }
 },
 "nbformat": 4,
 "nbformat_minor": 2
}
