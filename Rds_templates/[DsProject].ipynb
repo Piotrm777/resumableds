{
 "cells": [
  {
   "cell_type": "markdown",
   "metadata": {},
   "source": [
    "## Project \n",
    "\n",
    "\n",
    "### Project question\n",
    "What question should be answered?\n",
    "\n",
    "### Approach\n",
    "How?\n",
    "\n",
    "\n",
    "### Define project globals"
   ]
  },
  {
   "cell_type": "code",
   "execution_count": 1,
   "metadata": {},
   "outputs": [],
   "source": [
    "# project name\n",
    "project = 'dummy'\n",
    "\n",
    "# analysis time\n",
    "analysis_timespan = '365 days'\n",
    "# or\n",
    "# analysis_start_date\n",
    "# and / or\n",
    "#analysis_end_date\n",
    "\n",
    "\n",
    "# notebooks to be executed in given order\n",
    "notebooks = [\n",
    "             '00_definitions',\n",
    "             '10_collection',\n",
    "             '20_processing',\n",
    "             '30_graphs',\n",
    "             '40_publication',\n",
    "            ]"
   ]
  },
  {
   "cell_type": "markdown",
   "metadata": {},
   "source": [
    "### Start DsProject"
   ]
  },
  {
   "cell_type": "code",
   "execution_count": 2,
   "metadata": {},
   "outputs": [
    {
     "name": "stderr",
     "output_type": "stream",
     "text": [
      "2018-05-04 19:48:09,305 INFO     saved project state found; resuming from last saved state\n",
      "2018-05-04 19:48:09,493 INFO     Project \"dummy\" resumed with Rds version 0.97\n",
      "2018-05-04 19:48:09,650 INFO     data \"['external', 'raw', 'interim', 'processed', 'defs']\" cleaned\n",
      "2018-05-04 19:48:09,775 INFO     Project \"dummy\" saved\n"
     ]
    }
   ],
   "source": [
    "import sys\n",
    "sys.path.append('C://notebooks//oce//users//ried//libs')\n",
    "from rlib.rds_specs import *\n",
    "\n",
    "# create project\n",
    "rds = Rds.DsProject(project,\n",
    "                    analysis_timespan=analysis_timespan)\n",
    "\n",
    "# start clean\n",
    "rds.reset()\n",
    "rds.save()"
   ]
  },
  {
   "cell_type": "markdown",
   "metadata": {},
   "source": [
    "### Run analysis chain"
   ]
  },
  {
   "cell_type": "code",
   "execution_count": 3,
   "metadata": {},
   "outputs": [
    {
     "name": "stderr",
     "output_type": "stream",
     "text": [
      "2018-05-04 19:48:11,184 INFO     Execute item 1 / 5\n",
      "2018-05-04 19:48:11,185 INFO     running \"C:\\notebooks\\oce\\users\\ried\\libs\\rlib\\Rds_templates\\00_definitions.ipynb\"\n",
      "2018-05-04 19:48:14,726 INFO     process execution took 3 seconds\n",
      "2018-05-04 19:48:14,731 INFO     Execute item 2 / 5\n",
      "2018-05-04 19:48:14,732 INFO     running \"C:\\notebooks\\oce\\users\\ried\\libs\\rlib\\Rds_templates\\10_collection.ipynb\"\n",
      "2018-05-04 19:48:18,165 INFO     process execution took 3 seconds\n",
      "2018-05-04 19:48:18,171 INFO     Execute item 3 / 5\n",
      "2018-05-04 19:48:18,172 INFO     running \"C:\\notebooks\\oce\\users\\ried\\libs\\rlib\\Rds_templates\\20_processing.ipynb\"\n",
      "2018-05-04 19:48:21,605 INFO     process execution took 3 seconds\n",
      "2018-05-04 19:48:21,610 INFO     Execute item 4 / 5\n",
      "2018-05-04 19:48:21,611 INFO     running \"C:\\notebooks\\oce\\users\\ried\\libs\\rlib\\Rds_templates\\30_graphs.ipynb\"\n",
      "2018-05-04 19:48:25,042 INFO     process execution took 3 seconds\n",
      "2018-05-04 19:48:25,047 INFO     Execute item 5 / 5\n",
      "2018-05-04 19:48:25,048 INFO     running \"C:\\notebooks\\oce\\users\\ried\\libs\\rlib\\Rds_templates\\40_publication.ipynb\"\n",
      "2018-05-04 19:48:27,380 INFO     process execution took 2 seconds\n",
      "2018-05-04 19:48:27,383 INFO     all 5 notebooks sucessfully executed in 16 seconds\n"
     ]
    },
    {
     "data": {
      "text/plain": [
       "True"
      ]
     },
     "execution_count": 3,
     "metadata": {},
     "output_type": "execute_result"
    }
   ],
   "source": [
    "# save current working directory\n",
    "pwd = os.getcwd()\n",
    "# create process chain\n",
    "process_chain = [os.path.join(pwd, '%s.ipynb' % nb) for nb in notebooks]\n",
    "# run process chain\n",
    "rds.run_process_chain(process_chain)"
   ]
  },
  {
   "cell_type": "code",
   "execution_count": 4,
   "metadata": {},
   "outputs": [
    {
     "name": "stderr",
     "output_type": "stream",
     "text": [
      "2018-05-04 19:48:27,408 INFO     Project \"dummy\" saved\n"
     ]
    }
   ],
   "source": [
    "rds.save('defs')"
   ]
  }
 ],
 "metadata": {
  "kernelspec": {
   "display_name": "Python 3",
   "language": "python",
   "name": "python3"
  },
  "language_info": {
   "codemirror_mode": {
    "name": "ipython",
    "version": 3
   },
   "file_extension": ".py",
   "mimetype": "text/x-python",
   "name": "python",
   "nbconvert_exporter": "python",
   "pygments_lexer": "ipython3",
   "version": "3.6.4"
  }
 },
 "nbformat": 4,
 "nbformat_minor": 2
}
